{
  "cells": [
    {
      "cell_type": "markdown",
      "metadata": {
        "id": "view-in-github",
        "colab_type": "text"
      },
      "source": [
        "<a href=\"https://colab.research.google.com/github/JonSax88/PracticalMachineLearning/blob/main/Sax_Module_6_Assignment_1_Digit_Recognizer.ipynb\" target=\"_parent\"><img src=\"https://colab.research.google.com/assets/colab-badge.svg\" alt=\"Open In Colab\"/></a>"
      ]
    },
    {
      "cell_type": "markdown",
      "id": "f0d2aa37",
      "metadata": {
        "id": "f0d2aa37"
      },
      "source": [
        "# Module 6 Assignment 1 - Digit Recognizer "
      ]
    },
    {
      "cell_type": "markdown",
      "id": "8c1171fc",
      "metadata": {
        "id": "8c1171fc"
      },
      "source": [
        "Jonathan Sax <br>\n",
        "Northwestern University<br>\n",
        "Practical Machine Learning - MSDS 422<br>\n",
        "5/8/2022 "
      ]
    },
    {
      "cell_type": "markdown",
      "id": "e5ad6738",
      "metadata": {
        "id": "e5ad6738"
      },
      "source": [
        "## Background Materials\n",
        "\n",
        "The classic MNIST Digit Recognizer (https://www.kaggle.com/competitions/digit-recognizer) problem is a competition on Kaggle.com, and you will compete in this competition. For this assignment, you will develop a classifier that may be used to predict which of the 10 digits is being written."
      ]
    },
    {
      "cell_type": "markdown",
      "id": "b18e13f6",
      "metadata": {
        "id": "b18e13f6"
      },
      "source": [
        "## Requirements\n",
        "\n",
        "\n",
        "1. Fit a random forest classifier using the full set of explanatory variables and the model training set (csv).\n",
        "\n",
        "2. Record the time it takes to fit the model and then evaluate the model on the csvdata by submitting to Kaggle.com. Provide your Kaggle.com score and user ID.\n",
        "\n",
        "3. Execute principal components analysis (PCA) on the combined training and test set data together, generating principal components that represent 95 percent of the variability in the explanatory variables. The number of principal components in the solution should be substantially fewer than the explanatory variables.\n",
        "\n",
        "4. Record the time it takes to identify the principal components.\n",
        "\n",
        "5. Using the identified principal components from step (2), use the csv to build another random forest classifier.\n",
        "\n",
        "6. Record the time it takes to fit the model and to evaluate the model on the csvdata by submitting to Kaggle.com. Provide your Kaggle.com score and user ID.\n",
        "\n",
        "7. Use k-means clustering to group MNIST observations into 1 of 10 categories and then assign labels.  (Follow the example here if needed: kmeans mnist.pdf Download kmeans mnist.pdf ).kmeans mnist-2.pdf Download kmeans mnist-2.pdf  \n",
        "\n",
        "8. Submit the RF Classifier, the PCA RF, and k-means estimations to Kaggle.com, and provide screen snapshots of your scores as well as your Kaggle.com user name.\n",
        "\n",
        "9. The experiment we have proposed has a major design flaw. Identify the flaw. Fix it. Rerun the experiment in a way that is consistent with a training-and-test regimen, and submit this to Kaggle.com. \n",
        "\n",
        "Report total elapsed time measures for the training set analysis. It is sufficient to run a single time-elapsed test for this assignment. In practice, we might consider the possibility of repeated executions of the relevant portions of the programs, much as the Benchmark Example programs do. Some code that might help you with reporting elapsed total time follows. \n",
        "\n",
        "start=datetime.now() <br> \n",
        "rf2.fit(trainimages,labels) <br> \n",
        "end=datetime.now() <br> \n",
        "print(end-start)"
      ]
    },
    {
      "cell_type": "markdown",
      "id": "ef137516",
      "metadata": {
        "id": "ef137516"
      },
      "source": [
        "## Ingest"
      ]
    },
    {
      "cell_type": "code",
      "execution_count": null,
      "id": "f4a19262",
      "metadata": {
        "id": "f4a19262"
      },
      "outputs": [],
      "source": [
        "import matplotlib as mpl\n",
        "import matplotlib.pyplot as plt\n",
        "import numpy as np\n",
        "import pandas as pd\n",
        "import seaborn as sns\n",
        "from datetime import datetime\n",
        "from sklearn.cluster import KMeans\n",
        "from sklearn.cluster import MiniBatchKMeans\n",
        "from sklearn.decomposition import PCA\n",
        "from sklearn.ensemble import RandomForestClassifier\n",
        "from sklearn.metrics import accuracy_score\n",
        "from sklearn.metrics import classification_report\n",
        "from sklearn.model_selection import train_test_split\n",
        "from sklearn.metrics import confusion_matrix\n"
      ]
    },
    {
      "cell_type": "code",
      "execution_count": null,
      "id": "e3bc4a0e",
      "metadata": {
        "id": "e3bc4a0e",
        "outputId": "d67393ee-d299-417f-f102-e8534e661844"
      },
      "outputs": [
        {
          "data": {
            "text/html": [
              "<div>\n",
              "<style scoped>\n",
              "    .dataframe tbody tr th:only-of-type {\n",
              "        vertical-align: middle;\n",
              "    }\n",
              "\n",
              "    .dataframe tbody tr th {\n",
              "        vertical-align: top;\n",
              "    }\n",
              "\n",
              "    .dataframe thead th {\n",
              "        text-align: right;\n",
              "    }\n",
              "</style>\n",
              "<table border=\"1\" class=\"dataframe\">\n",
              "  <thead>\n",
              "    <tr style=\"text-align: right;\">\n",
              "      <th></th>\n",
              "      <th>pixel0</th>\n",
              "      <th>pixel1</th>\n",
              "      <th>pixel2</th>\n",
              "      <th>pixel3</th>\n",
              "      <th>pixel4</th>\n",
              "      <th>pixel5</th>\n",
              "      <th>pixel6</th>\n",
              "      <th>pixel7</th>\n",
              "      <th>pixel8</th>\n",
              "      <th>pixel9</th>\n",
              "      <th>...</th>\n",
              "      <th>pixel774</th>\n",
              "      <th>pixel775</th>\n",
              "      <th>pixel776</th>\n",
              "      <th>pixel777</th>\n",
              "      <th>pixel778</th>\n",
              "      <th>pixel779</th>\n",
              "      <th>pixel780</th>\n",
              "      <th>pixel781</th>\n",
              "      <th>pixel782</th>\n",
              "      <th>pixel783</th>\n",
              "    </tr>\n",
              "  </thead>\n",
              "  <tbody>\n",
              "    <tr>\n",
              "      <th>0</th>\n",
              "      <td>0</td>\n",
              "      <td>0</td>\n",
              "      <td>0</td>\n",
              "      <td>0</td>\n",
              "      <td>0</td>\n",
              "      <td>0</td>\n",
              "      <td>0</td>\n",
              "      <td>0</td>\n",
              "      <td>0</td>\n",
              "      <td>0</td>\n",
              "      <td>...</td>\n",
              "      <td>0</td>\n",
              "      <td>0</td>\n",
              "      <td>0</td>\n",
              "      <td>0</td>\n",
              "      <td>0</td>\n",
              "      <td>0</td>\n",
              "      <td>0</td>\n",
              "      <td>0</td>\n",
              "      <td>0</td>\n",
              "      <td>0</td>\n",
              "    </tr>\n",
              "    <tr>\n",
              "      <th>1</th>\n",
              "      <td>0</td>\n",
              "      <td>0</td>\n",
              "      <td>0</td>\n",
              "      <td>0</td>\n",
              "      <td>0</td>\n",
              "      <td>0</td>\n",
              "      <td>0</td>\n",
              "      <td>0</td>\n",
              "      <td>0</td>\n",
              "      <td>0</td>\n",
              "      <td>...</td>\n",
              "      <td>0</td>\n",
              "      <td>0</td>\n",
              "      <td>0</td>\n",
              "      <td>0</td>\n",
              "      <td>0</td>\n",
              "      <td>0</td>\n",
              "      <td>0</td>\n",
              "      <td>0</td>\n",
              "      <td>0</td>\n",
              "      <td>0</td>\n",
              "    </tr>\n",
              "    <tr>\n",
              "      <th>2</th>\n",
              "      <td>0</td>\n",
              "      <td>0</td>\n",
              "      <td>0</td>\n",
              "      <td>0</td>\n",
              "      <td>0</td>\n",
              "      <td>0</td>\n",
              "      <td>0</td>\n",
              "      <td>0</td>\n",
              "      <td>0</td>\n",
              "      <td>0</td>\n",
              "      <td>...</td>\n",
              "      <td>0</td>\n",
              "      <td>0</td>\n",
              "      <td>0</td>\n",
              "      <td>0</td>\n",
              "      <td>0</td>\n",
              "      <td>0</td>\n",
              "      <td>0</td>\n",
              "      <td>0</td>\n",
              "      <td>0</td>\n",
              "      <td>0</td>\n",
              "    </tr>\n",
              "    <tr>\n",
              "      <th>3</th>\n",
              "      <td>0</td>\n",
              "      <td>0</td>\n",
              "      <td>0</td>\n",
              "      <td>0</td>\n",
              "      <td>0</td>\n",
              "      <td>0</td>\n",
              "      <td>0</td>\n",
              "      <td>0</td>\n",
              "      <td>0</td>\n",
              "      <td>0</td>\n",
              "      <td>...</td>\n",
              "      <td>0</td>\n",
              "      <td>0</td>\n",
              "      <td>0</td>\n",
              "      <td>0</td>\n",
              "      <td>0</td>\n",
              "      <td>0</td>\n",
              "      <td>0</td>\n",
              "      <td>0</td>\n",
              "      <td>0</td>\n",
              "      <td>0</td>\n",
              "    </tr>\n",
              "    <tr>\n",
              "      <th>4</th>\n",
              "      <td>0</td>\n",
              "      <td>0</td>\n",
              "      <td>0</td>\n",
              "      <td>0</td>\n",
              "      <td>0</td>\n",
              "      <td>0</td>\n",
              "      <td>0</td>\n",
              "      <td>0</td>\n",
              "      <td>0</td>\n",
              "      <td>0</td>\n",
              "      <td>...</td>\n",
              "      <td>0</td>\n",
              "      <td>0</td>\n",
              "      <td>0</td>\n",
              "      <td>0</td>\n",
              "      <td>0</td>\n",
              "      <td>0</td>\n",
              "      <td>0</td>\n",
              "      <td>0</td>\n",
              "      <td>0</td>\n",
              "      <td>0</td>\n",
              "    </tr>\n",
              "    <tr>\n",
              "      <th>...</th>\n",
              "      <td>...</td>\n",
              "      <td>...</td>\n",
              "      <td>...</td>\n",
              "      <td>...</td>\n",
              "      <td>...</td>\n",
              "      <td>...</td>\n",
              "      <td>...</td>\n",
              "      <td>...</td>\n",
              "      <td>...</td>\n",
              "      <td>...</td>\n",
              "      <td>...</td>\n",
              "      <td>...</td>\n",
              "      <td>...</td>\n",
              "      <td>...</td>\n",
              "      <td>...</td>\n",
              "      <td>...</td>\n",
              "      <td>...</td>\n",
              "      <td>...</td>\n",
              "      <td>...</td>\n",
              "      <td>...</td>\n",
              "      <td>...</td>\n",
              "    </tr>\n",
              "    <tr>\n",
              "      <th>27995</th>\n",
              "      <td>0</td>\n",
              "      <td>0</td>\n",
              "      <td>0</td>\n",
              "      <td>0</td>\n",
              "      <td>0</td>\n",
              "      <td>0</td>\n",
              "      <td>0</td>\n",
              "      <td>0</td>\n",
              "      <td>0</td>\n",
              "      <td>0</td>\n",
              "      <td>...</td>\n",
              "      <td>0</td>\n",
              "      <td>0</td>\n",
              "      <td>0</td>\n",
              "      <td>0</td>\n",
              "      <td>0</td>\n",
              "      <td>0</td>\n",
              "      <td>0</td>\n",
              "      <td>0</td>\n",
              "      <td>0</td>\n",
              "      <td>0</td>\n",
              "    </tr>\n",
              "    <tr>\n",
              "      <th>27996</th>\n",
              "      <td>0</td>\n",
              "      <td>0</td>\n",
              "      <td>0</td>\n",
              "      <td>0</td>\n",
              "      <td>0</td>\n",
              "      <td>0</td>\n",
              "      <td>0</td>\n",
              "      <td>0</td>\n",
              "      <td>0</td>\n",
              "      <td>0</td>\n",
              "      <td>...</td>\n",
              "      <td>0</td>\n",
              "      <td>0</td>\n",
              "      <td>0</td>\n",
              "      <td>0</td>\n",
              "      <td>0</td>\n",
              "      <td>0</td>\n",
              "      <td>0</td>\n",
              "      <td>0</td>\n",
              "      <td>0</td>\n",
              "      <td>0</td>\n",
              "    </tr>\n",
              "    <tr>\n",
              "      <th>27997</th>\n",
              "      <td>0</td>\n",
              "      <td>0</td>\n",
              "      <td>0</td>\n",
              "      <td>0</td>\n",
              "      <td>0</td>\n",
              "      <td>0</td>\n",
              "      <td>0</td>\n",
              "      <td>0</td>\n",
              "      <td>0</td>\n",
              "      <td>0</td>\n",
              "      <td>...</td>\n",
              "      <td>0</td>\n",
              "      <td>0</td>\n",
              "      <td>0</td>\n",
              "      <td>0</td>\n",
              "      <td>0</td>\n",
              "      <td>0</td>\n",
              "      <td>0</td>\n",
              "      <td>0</td>\n",
              "      <td>0</td>\n",
              "      <td>0</td>\n",
              "    </tr>\n",
              "    <tr>\n",
              "      <th>27998</th>\n",
              "      <td>0</td>\n",
              "      <td>0</td>\n",
              "      <td>0</td>\n",
              "      <td>0</td>\n",
              "      <td>0</td>\n",
              "      <td>0</td>\n",
              "      <td>0</td>\n",
              "      <td>0</td>\n",
              "      <td>0</td>\n",
              "      <td>0</td>\n",
              "      <td>...</td>\n",
              "      <td>0</td>\n",
              "      <td>0</td>\n",
              "      <td>0</td>\n",
              "      <td>0</td>\n",
              "      <td>0</td>\n",
              "      <td>0</td>\n",
              "      <td>0</td>\n",
              "      <td>0</td>\n",
              "      <td>0</td>\n",
              "      <td>0</td>\n",
              "    </tr>\n",
              "    <tr>\n",
              "      <th>27999</th>\n",
              "      <td>0</td>\n",
              "      <td>0</td>\n",
              "      <td>0</td>\n",
              "      <td>0</td>\n",
              "      <td>0</td>\n",
              "      <td>0</td>\n",
              "      <td>0</td>\n",
              "      <td>0</td>\n",
              "      <td>0</td>\n",
              "      <td>0</td>\n",
              "      <td>...</td>\n",
              "      <td>0</td>\n",
              "      <td>0</td>\n",
              "      <td>0</td>\n",
              "      <td>0</td>\n",
              "      <td>0</td>\n",
              "      <td>0</td>\n",
              "      <td>0</td>\n",
              "      <td>0</td>\n",
              "      <td>0</td>\n",
              "      <td>0</td>\n",
              "    </tr>\n",
              "  </tbody>\n",
              "</table>\n",
              "<p>28000 rows × 784 columns</p>\n",
              "</div>"
            ],
            "text/plain": [
              "       pixel0  pixel1  pixel2  pixel3  pixel4  pixel5  pixel6  pixel7  pixel8  \\\n",
              "0           0       0       0       0       0       0       0       0       0   \n",
              "1           0       0       0       0       0       0       0       0       0   \n",
              "2           0       0       0       0       0       0       0       0       0   \n",
              "3           0       0       0       0       0       0       0       0       0   \n",
              "4           0       0       0       0       0       0       0       0       0   \n",
              "...       ...     ...     ...     ...     ...     ...     ...     ...     ...   \n",
              "27995       0       0       0       0       0       0       0       0       0   \n",
              "27996       0       0       0       0       0       0       0       0       0   \n",
              "27997       0       0       0       0       0       0       0       0       0   \n",
              "27998       0       0       0       0       0       0       0       0       0   \n",
              "27999       0       0       0       0       0       0       0       0       0   \n",
              "\n",
              "       pixel9  ...  pixel774  pixel775  pixel776  pixel777  pixel778  \\\n",
              "0           0  ...         0         0         0         0         0   \n",
              "1           0  ...         0         0         0         0         0   \n",
              "2           0  ...         0         0         0         0         0   \n",
              "3           0  ...         0         0         0         0         0   \n",
              "4           0  ...         0         0         0         0         0   \n",
              "...       ...  ...       ...       ...       ...       ...       ...   \n",
              "27995       0  ...         0         0         0         0         0   \n",
              "27996       0  ...         0         0         0         0         0   \n",
              "27997       0  ...         0         0         0         0         0   \n",
              "27998       0  ...         0         0         0         0         0   \n",
              "27999       0  ...         0         0         0         0         0   \n",
              "\n",
              "       pixel779  pixel780  pixel781  pixel782  pixel783  \n",
              "0             0         0         0         0         0  \n",
              "1             0         0         0         0         0  \n",
              "2             0         0         0         0         0  \n",
              "3             0         0         0         0         0  \n",
              "4             0         0         0         0         0  \n",
              "...         ...       ...       ...       ...       ...  \n",
              "27995         0         0         0         0         0  \n",
              "27996         0         0         0         0         0  \n",
              "27997         0         0         0         0         0  \n",
              "27998         0         0         0         0         0  \n",
              "27999         0         0         0         0         0  \n",
              "\n",
              "[28000 rows x 784 columns]"
            ]
          },
          "execution_count": 53,
          "metadata": {},
          "output_type": "execute_result"
        }
      ],
      "source": [
        "test = pd.read_csv(\"test.csv\")\n",
        "test"
      ]
    },
    {
      "cell_type": "code",
      "execution_count": null,
      "id": "90ff39bd",
      "metadata": {
        "id": "90ff39bd",
        "outputId": "fcbade9b-d4dc-4449-feef-1906f604bd9b"
      },
      "outputs": [
        {
          "data": {
            "text/plain": [
              "(42000, 785)"
            ]
          },
          "execution_count": 5,
          "metadata": {},
          "output_type": "execute_result"
        }
      ],
      "source": [
        "train = pd.read_csv(\"train.csv\")\n",
        "train.shape"
      ]
    },
    {
      "cell_type": "markdown",
      "id": "4f8e9ed8",
      "metadata": {
        "id": "4f8e9ed8"
      },
      "source": [
        "## EDA"
      ]
    },
    {
      "cell_type": "code",
      "execution_count": null,
      "id": "29d5b6a8",
      "metadata": {
        "id": "29d5b6a8"
      },
      "outputs": [],
      "source": [
        "train_df_X = train.copy()\n",
        "train_df_y = train_df_X['label']\n",
        "train_df_X.drop(['label'], axis=1, inplace=True)"
      ]
    },
    {
      "cell_type": "code",
      "execution_count": null,
      "id": "78440364",
      "metadata": {
        "id": "78440364",
        "outputId": "03ed8001-9942-4d50-ce60-6d6047ac4511"
      },
      "outputs": [
        {
          "data": {
            "text/plain": [
              "(42000, 784)"
            ]
          },
          "execution_count": 7,
          "metadata": {},
          "output_type": "execute_result"
        }
      ],
      "source": [
        "train_df_X.shape"
      ]
    },
    {
      "cell_type": "code",
      "execution_count": null,
      "id": "4225dd83",
      "metadata": {
        "id": "4225dd83",
        "outputId": "06523a55-e655-46bb-93cc-87ec7adabadb"
      },
      "outputs": [
        {
          "data": {
            "text/plain": [
              "(42000,)"
            ]
          },
          "execution_count": 8,
          "metadata": {},
          "output_type": "execute_result"
        }
      ],
      "source": [
        "train_df_y.shape"
      ]
    },
    {
      "cell_type": "code",
      "execution_count": null,
      "id": "9856e52e",
      "metadata": {
        "id": "9856e52e",
        "outputId": "ab246a60-1120-4eba-a3fc-53e2428cbfdc"
      },
      "outputs": [
        {
          "data": {
            "image/png": "[encoded data removed]",
            "text/plain": [
              "<Figure size 1440x1440 with 20 Axes>"
            ]
          },
          "metadata": {},
          "output_type": "display_data"
        }
      ],
      "source": [
        "# there are 784 features pixels for each sample, sqrt(784) = 28\n",
        "# each sample represents a 28x28 image of a digit, need to reshape\n",
        "train_df_X_img = train_df_X.values.reshape(-1,28,28,1)\n",
        "\n",
        "num_examples = 20\n",
        "plt.figure(figsize=(20,20))\n",
        "for i in range(num_examples):\n",
        "    plt.subplot(1, num_examples, i+1)\n",
        "    plt.imshow(train_df_X_img[i], cmap='Greys')\n",
        "    plt.axis('off')\n",
        "plt.show()\n",
        "\n"
      ]
    },
    {
      "cell_type": "code",
      "execution_count": null,
      "id": "24afe1b7",
      "metadata": {
        "id": "24afe1b7",
        "outputId": "67b98fa8-9266-410e-cb0c-4310d2657229"
      },
      "outputs": [
        {
          "data": {
            "text/plain": [
              "Text(0.5, 1.0, 'Digit Distribution - Training Set')"
            ]
          },
          "execution_count": 16,
          "metadata": {},
          "output_type": "execute_result"
        },
        {
          "data": {
            "image/png": "[encoded data removed]",
            "text/plain": [
              "<Figure size 1296x432 with 1 Axes>"
            ]
          },
          "metadata": {},
          "output_type": "display_data"
        }
      ],
      "source": [
        "ax = plt.subplots(figsize=(18, 6))\n",
        "sns.set_style(\"whitegrid\")\n",
        "sns.countplot(x='label', data=train);\n",
        "plt.ylabel(\"No. of Observations\", size=20);\n",
        "plt.xlabel(\"Class Name\", size=20);\n",
        "plt.title(\"Digit Distribution - Training Set\", size=25)"
      ]
    },
    {
      "cell_type": "code",
      "execution_count": null,
      "id": "303bb575",
      "metadata": {
        "id": "303bb575"
      },
      "outputs": [],
      "source": [
        "X_test_csv = test.values"
      ]
    },
    {
      "cell_type": "code",
      "execution_count": null,
      "id": "b412a5d8",
      "metadata": {
        "id": "b412a5d8",
        "outputId": "f6a1c64d-304e-4ae6-ab33-50c376dd4011"
      },
      "outputs": [
        {
          "data": {
            "text/plain": [
              "array([[0, 0, 0, ..., 0, 0, 0],\n",
              "       [0, 0, 0, ..., 0, 0, 0],\n",
              "       [0, 0, 0, ..., 0, 0, 0],\n",
              "       ...,\n",
              "       [0, 0, 0, ..., 0, 0, 0],\n",
              "       [0, 0, 0, ..., 0, 0, 0],\n",
              "       [0, 0, 0, ..., 0, 0, 0]])"
            ]
          },
          "execution_count": 77,
          "metadata": {},
          "output_type": "execute_result"
        }
      ],
      "source": [
        "X_test_csv"
      ]
    },
    {
      "cell_type": "markdown",
      "id": "6cede3df",
      "metadata": {
        "id": "6cede3df"
      },
      "source": [
        "# Modeling"
      ]
    },
    {
      "cell_type": "code",
      "execution_count": null,
      "id": "3bb38df5",
      "metadata": {
        "id": "3bb38df5"
      },
      "outputs": [],
      "source": [
        "X_train,X_val,y_train,y_val=train_test_split(train_df_X,train_df_y,test_size=0.2,random_state=42)"
      ]
    },
    {
      "cell_type": "markdown",
      "id": "829a5b4e",
      "metadata": {
        "id": "829a5b4e"
      },
      "source": [
        "### Random Forest Classifier"
      ]
    },
    {
      "cell_type": "code",
      "execution_count": null,
      "id": "93ad5359",
      "metadata": {
        "id": "93ad5359",
        "outputId": "cbe87153-a72e-42c7-83eb-b7ba6f4a7ac3"
      },
      "outputs": [
        {
          "name": "stdout",
          "output_type": "stream",
          "text": [
            "0:00:16.974900\n"
          ]
        }
      ],
      "source": [
        "start=datetime.now()\n",
        "rfc_model = RandomForestClassifier(random_state=42)\n",
        "rfc_model.fit(X_train,y_train)\n",
        "end=datetime.now()\n",
        "print(end-start)"
      ]
    },
    {
      "cell_type": "code",
      "execution_count": null,
      "id": "9af65059",
      "metadata": {
        "id": "9af65059",
        "outputId": "48a40bbd-7c3f-4ff2-a212-f23570614929"
      },
      "outputs": [
        {
          "name": "stdout",
          "output_type": "stream",
          "text": [
            "0:00:00.242417\n",
            "accuracy score =  0.9628571428571429\n"
          ]
        }
      ],
      "source": [
        "start=datetime.now()\n",
        "y_pred = rfc_model.predict(X_val)\n",
        "end=datetime.now()\n",
        "print(end-start)\n",
        "print('accuracy score = ', accuracy_score(y_val,y_pred))"
      ]
    },
    {
      "cell_type": "code",
      "execution_count": null,
      "id": "840d4b2e",
      "metadata": {
        "id": "840d4b2e",
        "outputId": "d589b388-0cdc-4674-e57c-f35a44c451d7"
      },
      "outputs": [
        {
          "name": "stdout",
          "output_type": "stream",
          "text": [
            "              precision    recall  f1-score   support\n",
            "\n",
            "           0       0.98      0.98      0.98       816\n",
            "           1       0.98      0.99      0.99       909\n",
            "           2       0.96      0.96      0.96       846\n",
            "           3       0.96      0.95      0.96       937\n",
            "           4       0.96      0.97      0.96       839\n",
            "           5       0.96      0.96      0.96       702\n",
            "           6       0.96      0.98      0.97       785\n",
            "           7       0.97      0.95      0.96       893\n",
            "           8       0.95      0.95      0.95       835\n",
            "           9       0.93      0.94      0.94       838\n",
            "\n",
            "    accuracy                           0.96      8400\n",
            "   macro avg       0.96      0.96      0.96      8400\n",
            "weighted avg       0.96      0.96      0.96      8400\n",
            "\n"
          ]
        }
      ],
      "source": [
        "print(classification_report(y_val, y_pred))"
      ]
    },
    {
      "cell_type": "code",
      "execution_count": null,
      "id": "ff5a2adc",
      "metadata": {
        "id": "ff5a2adc",
        "outputId": "a58a0dc8-d4b1-4d5d-b206-40ef829c0409"
      },
      "outputs": [
        {
          "data": {
            "image/png": "[encoded data removed]",
            "text/plain": [
              "<Figure size 1440x1440 with 20 Axes>"
            ]
          },
          "metadata": {},
          "output_type": "display_data"
        }
      ],
      "source": [
        "X_val_img = X_val.values.reshape(-1,28,28,1)\n",
        "\n",
        "num_examples = 20\n",
        "plt.figure(figsize=(20,20))\n",
        "for i in range(num_examples):\n",
        "    plt.subplot(1, num_examples, i+1)\n",
        "    plt.imshow(X_val_img[i], cmap='Greys')\n",
        "    plt.axis('off')\n",
        "plt.show()"
      ]
    },
    {
      "cell_type": "code",
      "execution_count": null,
      "id": "8254851c",
      "metadata": {
        "id": "8254851c",
        "outputId": "974cbb60-99d1-4a80-b0be-7d095729604a"
      },
      "outputs": [
        {
          "data": {
            "text/plain": [
              "array([8, 1, 9, 9, 8, 6, 2, 2, 7, 1, 6, 3, 1, 2, 7, 4, 3, 3, 6, 4])"
            ]
          },
          "execution_count": 22,
          "metadata": {},
          "output_type": "execute_result"
        }
      ],
      "source": [
        "y_pred[0:20]\n"
      ]
    },
    {
      "cell_type": "code",
      "execution_count": null,
      "id": "8248d992",
      "metadata": {
        "id": "8248d992",
        "outputId": "e962119f-c2fd-4d0d-9cac-e2317dab943e"
      },
      "outputs": [
        {
          "data": {
            "text/plain": [
              "5457     8\n",
              "38509    1\n",
              "25536    9\n",
              "31803    9\n",
              "39863    8\n",
              "30639    6\n",
              "12986    2\n",
              "41067    2\n",
              "30743    7\n",
              "6839     1\n",
              "17164    6\n",
              "21723    3\n",
              "12272    1\n",
              "5030     2\n",
              "25222    7\n",
              "34680    4\n",
              "4976     3\n",
              "19565    3\n",
              "27947    6\n",
              "31133    4\n",
              "Name: label, dtype: int64"
            ]
          },
          "execution_count": 23,
          "metadata": {},
          "output_type": "execute_result"
        }
      ],
      "source": [
        "y_val[0:20]"
      ]
    },
    {
      "cell_type": "code",
      "execution_count": null,
      "id": "54927be9",
      "metadata": {
        "id": "54927be9",
        "outputId": "fc00f3c4-5966-4bfe-8235-160434bd233d"
      },
      "outputs": [
        {
          "data": {
            "image/png": "[encoded data removed]",
            "text/plain": [
              "<Figure size 432x288 with 1 Axes>"
            ]
          },
          "metadata": {},
          "output_type": "display_data"
        }
      ],
      "source": [
        "mat = confusion_matrix(y_val, y_pred)\n",
        "sns.heatmap(mat.T, square=True, annot=True, fmt='d', cbar=False)\n",
        "plt.xlabel('true label')\n",
        "plt.ylabel('predicted label');"
      ]
    },
    {
      "cell_type": "code",
      "execution_count": null,
      "id": "a6d4ce8a",
      "metadata": {
        "id": "a6d4ce8a",
        "outputId": "657af79e-58ac-41e2-9d6e-8d82e3263d7f"
      },
      "outputs": [
        {
          "name": "stdout",
          "output_type": "stream",
          "text": [
            "0:00:00.977115\n"
          ]
        }
      ],
      "source": [
        "start=datetime.now()\n",
        "y = rfc_model.predict(test)\n",
        "end=datetime.now()\n",
        "print(end-start)"
      ]
    },
    {
      "cell_type": "code",
      "execution_count": null,
      "id": "fa58aa4f",
      "metadata": {
        "id": "fa58aa4f"
      },
      "outputs": [],
      "source": [
        "# create submission file\n",
        "submission = pd.DataFrame({\"ImageId\": (test.index + 1),\"Label\": y})\n",
        "submission.to_csv('submissionRFC.csv', index=False)"
      ]
    },
    {
      "cell_type": "markdown",
      "id": "61eab6fb",
      "metadata": {
        "id": "61eab6fb"
      },
      "source": [
        "![Screen%20Shot%202022-05-07%20at%2010.13.30%20PM.png](attachment:Screen%20Shot%202022-05-07%20at%2010.13.30%20PM.png)"
      ]
    },
    {
      "cell_type": "markdown",
      "id": "94b4c5c2",
      "metadata": {
        "id": "94b4c5c2"
      },
      "source": [
        "Kaggle username = jonsax88"
      ]
    },
    {
      "cell_type": "markdown",
      "id": "8c24f577",
      "metadata": {
        "id": "8c24f577"
      },
      "source": [
        "## Principal Component Analysis (PCA)"
      ]
    },
    {
      "cell_type": "code",
      "execution_count": null,
      "id": "09a3c3ee",
      "metadata": {
        "id": "09a3c3ee",
        "outputId": "6cb54bc8-d867-4a40-e687-b8f186166905"
      },
      "outputs": [
        {
          "name": "stdout",
          "output_type": "stream",
          "text": [
            "Time:  0:00:02.004420\n",
            "# PCA Components at 95% variability:  153\n"
          ]
        }
      ],
      "source": [
        "start=datetime.now()\n",
        "pca = PCA()\n",
        "pca.fit(X_train)\n",
        "cumsum = np.cumsum(pca.explained_variance_ratio_)\n",
        "pca_n_components = np.argmax(cumsum >= 0.95) + 1\n",
        "end=datetime.now()\n",
        "print('Time: ', end-start)\n",
        "print('# PCA Components at 95% variability: ', pca_n_components)"
      ]
    },
    {
      "cell_type": "code",
      "execution_count": null,
      "id": "33b18328",
      "metadata": {
        "id": "33b18328",
        "outputId": "b9b5e092-31a4-4b45-ced0-cd6600d8e486"
      },
      "outputs": [
        {
          "data": {
            "image/png": "[encoded data removed]",
            "text/plain": [
              "<Figure size 432x288 with 1 Axes>"
            ]
          },
          "metadata": {},
          "output_type": "display_data"
        }
      ],
      "source": [
        "plt.figure(figsize=(6,4))\n",
        "plt.plot(cumsum, linewidth=3)\n",
        "plt.axis([0, 400, 0, 1])\n",
        "plt.xlabel(\"Dimensions\")\n",
        "plt.ylabel(\"Explained Variance\")\n",
        "plt.plot([pca_n_components, pca_n_components], [0, 0.95], \"k:\")\n",
        "plt.plot([0, pca_n_components], [0.95, 0.95], \"k:\")\n",
        "plt.plot(pca_n_components, 0.95, \"ko\")\n",
        "plt.annotate(\"Elbow\", xy=(65, 0.85), xytext=(70, 0.7),\n",
        "             arrowprops=dict(arrowstyle=\"->\"), fontsize=16)\n",
        "plt.grid(True)\n",
        "plt.show()"
      ]
    },
    {
      "cell_type": "code",
      "execution_count": null,
      "id": "8d8a8d79",
      "metadata": {
        "id": "8d8a8d79",
        "outputId": "a203a0f4-bc66-45d1-a3c9-7bdfb4b832f7"
      },
      "outputs": [
        {
          "name": "stdout",
          "output_type": "stream",
          "text": [
            "Time:  0:00:02.075423\n"
          ]
        }
      ],
      "source": [
        "start=datetime.now()\n",
        "pca = PCA(n_components=pca_n_components)\n",
        "X_train_pca = pca.fit_transform(X_train)\n",
        "X_recovered = pca.inverse_transform(X_train_pca)\n",
        "end=datetime.now()\n",
        "print('Time: ', end-start)"
      ]
    },
    {
      "cell_type": "markdown",
      "id": "e74910a7",
      "metadata": {
        "id": "e74910a7"
      },
      "source": [
        "## PCA of test and train dataset combined"
      ]
    },
    {
      "cell_type": "code",
      "execution_count": null,
      "id": "324ac9f4",
      "metadata": {
        "id": "324ac9f4",
        "outputId": "451541d8-934d-4af6-89c5-b4d1f52d8af7"
      },
      "outputs": [
        {
          "name": "stdout",
          "output_type": "stream",
          "text": [
            "0:00:36.787805\n"
          ]
        }
      ],
      "source": [
        "rnd_clf_pca = RandomForestClassifier(n_estimators=100, random_state=42)\n",
        "\n",
        "start=datetime.now()\n",
        "rnd_clf_pca.fit(X_train_pca, y_train)\n",
        "end=datetime.now()\n",
        "print(end-start)\n",
        "\n"
      ]
    },
    {
      "cell_type": "code",
      "execution_count": null,
      "id": "75af82cb",
      "metadata": {
        "id": "75af82cb",
        "outputId": "259def8a-f86e-4539-b4d2-ab9e0204afca"
      },
      "outputs": [
        {
          "data": {
            "text/plain": [
              "0.9380952380952381"
            ]
          },
          "execution_count": 73,
          "metadata": {},
          "output_type": "execute_result"
        }
      ],
      "source": [
        "X_test_reduced = pca.transform(X_val)\n",
        "\n",
        "y_pred_reduced = rnd_clf_pca.predict(X_test_reduced)\n",
        "accuracy_score(y_val, y_pred_reduced)"
      ]
    },
    {
      "cell_type": "code",
      "execution_count": null,
      "id": "91f9938e",
      "metadata": {
        "id": "91f9938e"
      },
      "outputs": [],
      "source": [
        "X_test_reduced_csv = pca.transform(X_test_csv)\n",
        "y_pred_reduced_csv = rnd_clf_pca.predict(X_test_reduced_csv)"
      ]
    },
    {
      "cell_type": "code",
      "execution_count": null,
      "id": "f75f8ccd",
      "metadata": {
        "id": "f75f8ccd"
      },
      "outputs": [],
      "source": [
        "# create submission file\n",
        "submission2 = pd.DataFrame({\"ImageId\": (test.index + 1),\"Label\": y_pred_reduced_csv})\n",
        "submission2.to_csv('submission_pcs_rf.csv', index=False)"
      ]
    },
    {
      "cell_type": "markdown",
      "id": "66072b21",
      "metadata": {
        "id": "66072b21"
      },
      "source": [
        "![Screen%20Shot%202022-05-08%20at%2012.06.03%20PM.png](attachment:Screen%20Shot%202022-05-08%20at%2012.06.03%20PM.png)"
      ]
    },
    {
      "cell_type": "markdown",
      "id": "ad3e21d3",
      "metadata": {
        "id": "ad3e21d3"
      },
      "source": [
        "## K-Means Clustering"
      ]
    },
    {
      "cell_type": "code",
      "execution_count": null,
      "id": "2f843c5e",
      "metadata": {
        "id": "2f843c5e",
        "outputId": "75d5435e-51a5-43ff-d008-fecf81dcb90f"
      },
      "outputs": [
        {
          "name": "stdout",
          "output_type": "stream",
          "text": [
            "10\n"
          ]
        }
      ],
      "source": [
        "n_digits = len(np.unique(y_val))\n",
        "print(n_digits)"
      ]
    },
    {
      "cell_type": "code",
      "execution_count": null,
      "id": "43567189",
      "metadata": {
        "id": "43567189",
        "outputId": "7926b057-d21e-48c6-c3c3-18aa27566909"
      },
      "outputs": [
        {
          "name": "stdout",
          "output_type": "stream",
          "text": [
            "0:00:00.625563\n"
          ]
        }
      ],
      "source": [
        "start=datetime.now()\n",
        "\n",
        "# Initialize Kmeans model\n",
        "\n",
        "kmeans = MiniBatchKMeans(n_clusters = n_digits)\n",
        "\n",
        "# Fit the model to the training data\n",
        "\n",
        "kmeans.fit(X_train)\n",
        "\n",
        "kmeans.labels_\n",
        "\n",
        "end=datetime.now()\n",
        "print(end-start)\n"
      ]
    },
    {
      "cell_type": "code",
      "execution_count": null,
      "id": "84a2120e",
      "metadata": {
        "id": "84a2120e",
        "outputId": "98f7e32e-f9ee-4072-c2bc-623611e4d404"
      },
      "outputs": [
        {
          "data": {
            "text/html": [
              "<div>\n",
              "<style scoped>\n",
              "    .dataframe tbody tr th:only-of-type {\n",
              "        vertical-align: middle;\n",
              "    }\n",
              "\n",
              "    .dataframe tbody tr th {\n",
              "        vertical-align: top;\n",
              "    }\n",
              "\n",
              "    .dataframe thead th {\n",
              "        text-align: right;\n",
              "    }\n",
              "</style>\n",
              "<table border=\"1\" class=\"dataframe\">\n",
              "  <thead>\n",
              "    <tr style=\"text-align: right;\">\n",
              "      <th></th>\n",
              "      <th>Cluster</th>\n",
              "      <th>Label</th>\n",
              "    </tr>\n",
              "  </thead>\n",
              "  <tbody>\n",
              "    <tr>\n",
              "      <th>0</th>\n",
              "      <td>4</td>\n",
              "      <td>6</td>\n",
              "    </tr>\n",
              "    <tr>\n",
              "      <th>1</th>\n",
              "      <td>0</td>\n",
              "      <td>5</td>\n",
              "    </tr>\n",
              "    <tr>\n",
              "      <th>2</th>\n",
              "      <td>9</td>\n",
              "      <td>3</td>\n",
              "    </tr>\n",
              "    <tr>\n",
              "      <th>3</th>\n",
              "      <td>3</td>\n",
              "      <td>4</td>\n",
              "    </tr>\n",
              "    <tr>\n",
              "      <th>4</th>\n",
              "      <td>3</td>\n",
              "      <td>7</td>\n",
              "    </tr>\n",
              "    <tr>\n",
              "      <th>...</th>\n",
              "      <td>...</td>\n",
              "      <td>...</td>\n",
              "    </tr>\n",
              "    <tr>\n",
              "      <th>33595</th>\n",
              "      <td>5</td>\n",
              "      <td>9</td>\n",
              "    </tr>\n",
              "    <tr>\n",
              "      <th>33596</th>\n",
              "      <td>3</td>\n",
              "      <td>9</td>\n",
              "    </tr>\n",
              "    <tr>\n",
              "      <th>33597</th>\n",
              "      <td>6</td>\n",
              "      <td>2</td>\n",
              "    </tr>\n",
              "    <tr>\n",
              "      <th>33598</th>\n",
              "      <td>4</td>\n",
              "      <td>6</td>\n",
              "    </tr>\n",
              "    <tr>\n",
              "      <th>33599</th>\n",
              "      <td>8</td>\n",
              "      <td>0</td>\n",
              "    </tr>\n",
              "  </tbody>\n",
              "</table>\n",
              "<p>33600 rows × 2 columns</p>\n",
              "</div>"
            ],
            "text/plain": [
              "       Cluster  Label\n",
              "0            4      6\n",
              "1            0      5\n",
              "2            9      3\n",
              "3            3      4\n",
              "4            3      7\n",
              "...        ...    ...\n",
              "33595        5      9\n",
              "33596        3      9\n",
              "33597        6      2\n",
              "33598        4      6\n",
              "33599        8      0\n",
              "\n",
              "[33600 rows x 2 columns]"
            ]
          },
          "execution_count": 42,
          "metadata": {},
          "output_type": "execute_result"
        }
      ],
      "source": [
        "y_train_clusters = pd.DataFrame(kmeans.labels_, columns=[\"Cluster\"])\n",
        "y_train_clusters['Label'] = y_train.tolist()\n",
        "y_train_clusters"
      ]
    },
    {
      "cell_type": "code",
      "execution_count": null,
      "id": "e27d0bfc",
      "metadata": {
        "id": "e27d0bfc",
        "outputId": "2ac387c7-123e-4707-80ef-b4b41b7a66af"
      },
      "outputs": [
        {
          "data": {
            "text/html": [
              "<div>\n",
              "<style scoped>\n",
              "    .dataframe tbody tr th:only-of-type {\n",
              "        vertical-align: middle;\n",
              "    }\n",
              "\n",
              "    .dataframe tbody tr th {\n",
              "        vertical-align: top;\n",
              "    }\n",
              "\n",
              "    .dataframe thead th {\n",
              "        text-align: right;\n",
              "    }\n",
              "</style>\n",
              "<table border=\"1\" class=\"dataframe\">\n",
              "  <thead>\n",
              "    <tr style=\"text-align: right;\">\n",
              "      <th>Label</th>\n",
              "      <th>0</th>\n",
              "      <th>1</th>\n",
              "      <th>2</th>\n",
              "      <th>3</th>\n",
              "      <th>4</th>\n",
              "      <th>5</th>\n",
              "      <th>6</th>\n",
              "      <th>7</th>\n",
              "      <th>8</th>\n",
              "      <th>9</th>\n",
              "    </tr>\n",
              "    <tr>\n",
              "      <th>Cluster</th>\n",
              "      <th></th>\n",
              "      <th></th>\n",
              "      <th></th>\n",
              "      <th></th>\n",
              "      <th></th>\n",
              "      <th></th>\n",
              "      <th></th>\n",
              "      <th></th>\n",
              "      <th></th>\n",
              "      <th></th>\n",
              "    </tr>\n",
              "  </thead>\n",
              "  <tbody>\n",
              "    <tr>\n",
              "      <th>0</th>\n",
              "      <td>31</td>\n",
              "      <td>10</td>\n",
              "      <td>80</td>\n",
              "      <td>474</td>\n",
              "      <td>5</td>\n",
              "      <td>719</td>\n",
              "      <td>14</td>\n",
              "      <td>4</td>\n",
              "      <td>1805</td>\n",
              "      <td>46</td>\n",
              "    </tr>\n",
              "    <tr>\n",
              "      <th>1</th>\n",
              "      <td>7</td>\n",
              "      <td>967</td>\n",
              "      <td>1842</td>\n",
              "      <td>165</td>\n",
              "      <td>55</td>\n",
              "      <td>122</td>\n",
              "      <td>65</td>\n",
              "      <td>109</td>\n",
              "      <td>450</td>\n",
              "      <td>22</td>\n",
              "    </tr>\n",
              "    <tr>\n",
              "      <th>2</th>\n",
              "      <td>1150</td>\n",
              "      <td>0</td>\n",
              "      <td>631</td>\n",
              "      <td>219</td>\n",
              "      <td>13</td>\n",
              "      <td>276</td>\n",
              "      <td>109</td>\n",
              "      <td>7</td>\n",
              "      <td>107</td>\n",
              "      <td>15</td>\n",
              "    </tr>\n",
              "    <tr>\n",
              "      <th>3</th>\n",
              "      <td>8</td>\n",
              "      <td>4</td>\n",
              "      <td>26</td>\n",
              "      <td>78</td>\n",
              "      <td>946</td>\n",
              "      <td>131</td>\n",
              "      <td>0</td>\n",
              "      <td>1521</td>\n",
              "      <td>39</td>\n",
              "      <td>1501</td>\n",
              "    </tr>\n",
              "    <tr>\n",
              "      <th>4</th>\n",
              "      <td>146</td>\n",
              "      <td>6</td>\n",
              "      <td>132</td>\n",
              "      <td>47</td>\n",
              "      <td>73</td>\n",
              "      <td>101</td>\n",
              "      <td>2314</td>\n",
              "      <td>2</td>\n",
              "      <td>29</td>\n",
              "      <td>7</td>\n",
              "    </tr>\n",
              "    <tr>\n",
              "      <th>5</th>\n",
              "      <td>7</td>\n",
              "      <td>6</td>\n",
              "      <td>32</td>\n",
              "      <td>30</td>\n",
              "      <td>912</td>\n",
              "      <td>392</td>\n",
              "      <td>1</td>\n",
              "      <td>1505</td>\n",
              "      <td>196</td>\n",
              "      <td>1032</td>\n",
              "    </tr>\n",
              "    <tr>\n",
              "      <th>6</th>\n",
              "      <td>53</td>\n",
              "      <td>3</td>\n",
              "      <td>246</td>\n",
              "      <td>27</td>\n",
              "      <td>1143</td>\n",
              "      <td>73</td>\n",
              "      <td>673</td>\n",
              "      <td>190</td>\n",
              "      <td>53</td>\n",
              "      <td>592</td>\n",
              "    </tr>\n",
              "    <tr>\n",
              "      <th>7</th>\n",
              "      <td>6</td>\n",
              "      <td>2775</td>\n",
              "      <td>196</td>\n",
              "      <td>214</td>\n",
              "      <td>85</td>\n",
              "      <td>310</td>\n",
              "      <td>123</td>\n",
              "      <td>162</td>\n",
              "      <td>184</td>\n",
              "      <td>95</td>\n",
              "    </tr>\n",
              "    <tr>\n",
              "      <th>8</th>\n",
              "      <td>1811</td>\n",
              "      <td>0</td>\n",
              "      <td>8</td>\n",
              "      <td>5</td>\n",
              "      <td>0</td>\n",
              "      <td>23</td>\n",
              "      <td>42</td>\n",
              "      <td>4</td>\n",
              "      <td>13</td>\n",
              "      <td>10</td>\n",
              "    </tr>\n",
              "    <tr>\n",
              "      <th>9</th>\n",
              "      <td>97</td>\n",
              "      <td>4</td>\n",
              "      <td>138</td>\n",
              "      <td>2155</td>\n",
              "      <td>1</td>\n",
              "      <td>946</td>\n",
              "      <td>11</td>\n",
              "      <td>4</td>\n",
              "      <td>352</td>\n",
              "      <td>30</td>\n",
              "    </tr>\n",
              "  </tbody>\n",
              "</table>\n",
              "</div>"
            ],
            "text/plain": [
              "Label       0     1     2     3     4    5     6     7     8     9\n",
              "Cluster                                                           \n",
              "0          31    10    80   474     5  719    14     4  1805    46\n",
              "1           7   967  1842   165    55  122    65   109   450    22\n",
              "2        1150     0   631   219    13  276   109     7   107    15\n",
              "3           8     4    26    78   946  131     0  1521    39  1501\n",
              "4         146     6   132    47    73  101  2314     2    29     7\n",
              "5           7     6    32    30   912  392     1  1505   196  1032\n",
              "6          53     3   246    27  1143   73   673   190    53   592\n",
              "7           6  2775   196   214    85  310   123   162   184    95\n",
              "8        1811     0     8     5     0   23    42     4    13    10\n",
              "9          97     4   138  2155     1  946    11     4   352    30"
            ]
          },
          "execution_count": 43,
          "metadata": {},
          "output_type": "execute_result"
        }
      ],
      "source": [
        "pd.crosstab(y_train_clusters['Cluster'],y_train_clusters[\"Label\"])"
      ]
    },
    {
      "cell_type": "code",
      "execution_count": null,
      "id": "d8362ee1",
      "metadata": {
        "id": "d8362ee1",
        "outputId": "91602e6e-574e-4a4f-a3c6-0d9c366c19a0"
      },
      "outputs": [
        {
          "data": {
            "text/html": [
              "<div>\n",
              "<style scoped>\n",
              "    .dataframe tbody tr th:only-of-type {\n",
              "        vertical-align: middle;\n",
              "    }\n",
              "\n",
              "    .dataframe tbody tr th {\n",
              "        vertical-align: top;\n",
              "    }\n",
              "\n",
              "    .dataframe thead th {\n",
              "        text-align: right;\n",
              "    }\n",
              "</style>\n",
              "<table border=\"1\" class=\"dataframe\">\n",
              "  <thead>\n",
              "    <tr style=\"text-align: right;\">\n",
              "      <th></th>\n",
              "      <th>Label</th>\n",
              "    </tr>\n",
              "    <tr>\n",
              "      <th>Cluster</th>\n",
              "      <th></th>\n",
              "    </tr>\n",
              "  </thead>\n",
              "  <tbody>\n",
              "    <tr>\n",
              "      <th>0</th>\n",
              "      <td>8</td>\n",
              "    </tr>\n",
              "    <tr>\n",
              "      <th>1</th>\n",
              "      <td>2</td>\n",
              "    </tr>\n",
              "    <tr>\n",
              "      <th>2</th>\n",
              "      <td>0</td>\n",
              "    </tr>\n",
              "    <tr>\n",
              "      <th>3</th>\n",
              "      <td>7</td>\n",
              "    </tr>\n",
              "    <tr>\n",
              "      <th>4</th>\n",
              "      <td>6</td>\n",
              "    </tr>\n",
              "    <tr>\n",
              "      <th>5</th>\n",
              "      <td>7</td>\n",
              "    </tr>\n",
              "    <tr>\n",
              "      <th>6</th>\n",
              "      <td>4</td>\n",
              "    </tr>\n",
              "    <tr>\n",
              "      <th>7</th>\n",
              "      <td>1</td>\n",
              "    </tr>\n",
              "    <tr>\n",
              "      <th>8</th>\n",
              "      <td>0</td>\n",
              "    </tr>\n",
              "    <tr>\n",
              "      <th>9</th>\n",
              "      <td>3</td>\n",
              "    </tr>\n",
              "  </tbody>\n",
              "</table>\n",
              "</div>"
            ],
            "text/plain": [
              "         Label\n",
              "Cluster       \n",
              "0            8\n",
              "1            2\n",
              "2            0\n",
              "3            7\n",
              "4            6\n",
              "5            7\n",
              "6            4\n",
              "7            1\n",
              "8            0\n",
              "9            3"
            ]
          },
          "execution_count": 44,
          "metadata": {},
          "output_type": "execute_result"
        }
      ],
      "source": [
        "key = y_train_clusters.groupby('Cluster').agg(lambda x:x.value_counts().index[0])\n",
        "key "
      ]
    },
    {
      "cell_type": "code",
      "execution_count": null,
      "id": "bce2127e",
      "metadata": {
        "id": "bce2127e",
        "outputId": "29f6aac4-c731-40d6-b7b7-ab921e3783bb"
      },
      "outputs": [
        {
          "name": "stdout",
          "output_type": "stream",
          "text": [
            "              precision    recall  f1-score   support\n",
            "\n",
            "           0       0.67      0.89      0.76      3316\n",
            "           1       0.67      0.74      0.70      3775\n",
            "           2       0.48      0.55      0.52      3331\n",
            "           3       0.58      0.63      0.60      3414\n",
            "           4       0.37      0.35      0.36      3233\n",
            "           5       0.00      0.00      0.00      3093\n",
            "           6       0.81      0.69      0.75      3352\n",
            "           7       0.36      0.86      0.51      3508\n",
            "           8       0.57      0.56      0.56      3228\n",
            "           9       0.00      0.00      0.00      3350\n",
            "\n",
            "    accuracy                           0.54     33600\n",
            "   macro avg       0.45      0.53      0.48     33600\n",
            "weighted avg       0.46      0.54      0.48     33600\n",
            "\n"
          ]
        },
        {
          "name": "stderr",
          "output_type": "stream",
          "text": [
            "/Users/hydraulicdecoy/anaconda3/lib/python3.8/site-packages/sklearn/metrics/_classification.py:1245: UndefinedMetricWarning: Precision and F-score are ill-defined and being set to 0.0 in labels with no predicted samples. Use `zero_division` parameter to control this behavior.\n",
            "  _warn_prf(average, modifier, msg_start, len(result))\n",
            "/Users/hydraulicdecoy/anaconda3/lib/python3.8/site-packages/sklearn/metrics/_classification.py:1245: UndefinedMetricWarning: Precision and F-score are ill-defined and being set to 0.0 in labels with no predicted samples. Use `zero_division` parameter to control this behavior.\n",
            "  _warn_prf(average, modifier, msg_start, len(result))\n",
            "/Users/hydraulicdecoy/anaconda3/lib/python3.8/site-packages/sklearn/metrics/_classification.py:1245: UndefinedMetricWarning: Precision and F-score are ill-defined and being set to 0.0 in labels with no predicted samples. Use `zero_division` parameter to control this behavior.\n",
            "  _warn_prf(average, modifier, msg_start, len(result))\n"
          ]
        }
      ],
      "source": [
        "y_train_labels = []\n",
        "for i in range(0,len(kmeans.labels_)):\n",
        "    x = kmeans.labels_[i]\n",
        "    y_train_labels += [key['Label'].loc[x]]\n",
        "\n",
        "print(classification_report(y_train, y_train_labels))"
      ]
    },
    {
      "cell_type": "code",
      "execution_count": null,
      "id": "8136ec47",
      "metadata": {
        "id": "8136ec47",
        "outputId": "0af11f0f-9b28-4529-a79d-6440222ee252"
      },
      "outputs": [
        {
          "data": {
            "text/plain": [
              "array([1, 7, 3, ..., 9, 8, 3], dtype=int32)"
            ]
          },
          "execution_count": 46,
          "metadata": {},
          "output_type": "execute_result"
        }
      ],
      "source": [
        "y_val_pred = kmeans.predict(X_val)\n",
        "y_val_pred"
      ]
    },
    {
      "cell_type": "code",
      "execution_count": null,
      "id": "42cf3bd8",
      "metadata": {
        "id": "42cf3bd8",
        "outputId": "1b3d1a89-4edf-455d-9545-e2512066639f"
      },
      "outputs": [
        {
          "name": "stdout",
          "output_type": "stream",
          "text": [
            "              precision    recall  f1-score   support\n",
            "\n",
            "           0       0.67      0.89      0.76       816\n",
            "           1       0.68      0.77      0.72       909\n",
            "           2       0.49      0.54      0.51       846\n",
            "           3       0.61      0.64      0.63       937\n",
            "           4       0.38      0.34      0.36       839\n",
            "           5       0.00      0.00      0.00       702\n",
            "           6       0.79      0.67      0.72       785\n",
            "           7       0.37      0.89      0.52       893\n",
            "           8       0.60      0.57      0.58       835\n",
            "           9       0.00      0.00      0.00       838\n",
            "\n",
            "    accuracy                           0.54      8400\n",
            "   macro avg       0.46      0.53      0.48      8400\n",
            "weighted avg       0.47      0.54      0.49      8400\n",
            "\n"
          ]
        },
        {
          "name": "stderr",
          "output_type": "stream",
          "text": [
            "/Users/hydraulicdecoy/anaconda3/lib/python3.8/site-packages/sklearn/metrics/_classification.py:1245: UndefinedMetricWarning: Precision and F-score are ill-defined and being set to 0.0 in labels with no predicted samples. Use `zero_division` parameter to control this behavior.\n",
            "  _warn_prf(average, modifier, msg_start, len(result))\n",
            "/Users/hydraulicdecoy/anaconda3/lib/python3.8/site-packages/sklearn/metrics/_classification.py:1245: UndefinedMetricWarning: Precision and F-score are ill-defined and being set to 0.0 in labels with no predicted samples. Use `zero_division` parameter to control this behavior.\n",
            "  _warn_prf(average, modifier, msg_start, len(result))\n",
            "/Users/hydraulicdecoy/anaconda3/lib/python3.8/site-packages/sklearn/metrics/_classification.py:1245: UndefinedMetricWarning: Precision and F-score are ill-defined and being set to 0.0 in labels with no predicted samples. Use `zero_division` parameter to control this behavior.\n",
            "  _warn_prf(average, modifier, msg_start, len(result))\n"
          ]
        }
      ],
      "source": [
        "y_val_labels = []\n",
        "for i in range(0,len(y_val_pred)):\n",
        "    x = y_val_pred[i]\n",
        "    y_val_labels += [key['Label'].loc[x]]\n",
        "\n",
        "print(classification_report(y_val, y_val_labels))"
      ]
    },
    {
      "cell_type": "code",
      "execution_count": null,
      "id": "6d8091e7",
      "metadata": {
        "id": "6d8091e7"
      },
      "outputs": [],
      "source": [
        "Kmeans_pred = kmeans.predict(test)\n",
        "\n",
        "test_labels = []\n",
        "for i in range(0,len(Kmeans_pred)):\n",
        "    x = Kmeans_pred[i]\n",
        "    test_labels += [key['Label'].loc[x]]"
      ]
    },
    {
      "cell_type": "code",
      "execution_count": null,
      "id": "43ab3daf",
      "metadata": {
        "id": "43ab3daf"
      },
      "outputs": [],
      "source": [
        "# create submission file\n",
        "submission = pd.DataFrame({\"ImageId\": (test.index + 1),\"Label\": test_labels})\n",
        "submission.to_csv('submission.csv', index=False)"
      ]
    },
    {
      "cell_type": "markdown",
      "id": "93006753",
      "metadata": {
        "id": "93006753"
      },
      "source": [
        "![Screen%20Shot%202022-05-07%20at%209.38.22%20PM.png](attachment:Screen%20Shot%202022-05-07%20at%209.38.22%20PM.png)"
      ]
    },
    {
      "cell_type": "code",
      "execution_count": null,
      "id": "110c82db",
      "metadata": {
        "id": "110c82db",
        "outputId": "28d63a25-741b-4612-eb3e-3656a56f4773"
      },
      "outputs": [
        {
          "data": {
            "image/png": "[encoded data removed]",
            "text/plain": [
              "<Figure size 432x288 with 1 Axes>"
            ]
          },
          "metadata": {},
          "output_type": "display_data"
        }
      ],
      "source": [
        "mat2 = confusion_matrix(y_val, y_val_labels)\n",
        "sns.heatmap(mat2.T, square=True, annot=True, fmt='d', cbar=False)\n",
        "plt.xlabel('true label')\n",
        "plt.ylabel('predicted label');"
      ]
    },
    {
      "cell_type": "markdown",
      "id": "6f69b800",
      "metadata": {
        "id": "6f69b800"
      },
      "source": [
        "### Design Flaw"
      ]
    },
    {
      "cell_type": "markdown",
      "id": "6c5af76e",
      "metadata": {
        "id": "6c5af76e"
      },
      "source": [
        "Perhaps the design flaw is the fact that the K-means clustering needs more clusters:"
      ]
    },
    {
      "cell_type": "code",
      "execution_count": null,
      "id": "6475bbaa",
      "metadata": {
        "id": "6475bbaa",
        "outputId": "9893f3e0-56f2-444f-eaeb-9112748fd351"
      },
      "outputs": [
        {
          "name": "stdout",
          "output_type": "stream",
          "text": [
            "0:00:41.757224\n",
            "[1154 1649  130 ...  903   47  564]\n"
          ]
        }
      ],
      "source": [
        "start=datetime.now()\n",
        "# kmeans_fix = KMeans(n_clusters=10)\n",
        "# - MiniBatchKMeans: super-fast but has memory leaks (use batch_size=2048 to resolve) \n",
        "# - In my experience not as accurate; same n_clusters value used in KMeans() would \n",
        "#   be more accurate than MiniBatchKMeans() but extremely slow at higer n_clusters values\n",
        "# - trade-off: use much higher n_clusters in MiniBatchKMeans() to increase accuracy \n",
        "#   but will process it much faster than KMeans() \n",
        "kmeans_fix = MiniBatchKMeans(n_clusters=2000, batch_size=2048)\n",
        "kmeans_fix.fit(X_train)\n",
        "end=datetime.now()\n",
        "print(end-start)\n",
        "print(kmeans_fix.labels_)"
      ]
    },
    {
      "cell_type": "code",
      "execution_count": null,
      "id": "159116b7",
      "metadata": {
        "id": "159116b7"
      },
      "outputs": [],
      "source": [
        "y_train_clusters = pd.DataFrame(kmeans.labels_, columns=[\"Cluster\"])\n",
        "y_train_clusters['Label'] = y_train.tolist()\n",
        "y_train_clusters"
      ]
    },
    {
      "cell_type": "code",
      "execution_count": null,
      "id": "2edbcc6b",
      "metadata": {
        "id": "2edbcc6b",
        "outputId": "d05bbbb0-e8e1-46b2-d885-111239a87bb3"
      },
      "outputs": [
        {
          "data": {
            "text/html": [
              "<div>\n",
              "<style scoped>\n",
              "    .dataframe tbody tr th:only-of-type {\n",
              "        vertical-align: middle;\n",
              "    }\n",
              "\n",
              "    .dataframe tbody tr th {\n",
              "        vertical-align: top;\n",
              "    }\n",
              "\n",
              "    .dataframe thead th {\n",
              "        text-align: right;\n",
              "    }\n",
              "</style>\n",
              "<table border=\"1\" class=\"dataframe\">\n",
              "  <thead>\n",
              "    <tr style=\"text-align: right;\">\n",
              "      <th></th>\n",
              "      <th>Cluster</th>\n",
              "      <th>Label</th>\n",
              "    </tr>\n",
              "  </thead>\n",
              "  <tbody>\n",
              "    <tr>\n",
              "      <th>0</th>\n",
              "      <td>1154</td>\n",
              "      <td>6</td>\n",
              "    </tr>\n",
              "    <tr>\n",
              "      <th>1</th>\n",
              "      <td>1649</td>\n",
              "      <td>5</td>\n",
              "    </tr>\n",
              "    <tr>\n",
              "      <th>2</th>\n",
              "      <td>130</td>\n",
              "      <td>3</td>\n",
              "    </tr>\n",
              "    <tr>\n",
              "      <th>3</th>\n",
              "      <td>658</td>\n",
              "      <td>4</td>\n",
              "    </tr>\n",
              "    <tr>\n",
              "      <th>4</th>\n",
              "      <td>167</td>\n",
              "      <td>7</td>\n",
              "    </tr>\n",
              "    <tr>\n",
              "      <th>...</th>\n",
              "      <td>...</td>\n",
              "      <td>...</td>\n",
              "    </tr>\n",
              "    <tr>\n",
              "      <th>33595</th>\n",
              "      <td>479</td>\n",
              "      <td>9</td>\n",
              "    </tr>\n",
              "    <tr>\n",
              "      <th>33596</th>\n",
              "      <td>1427</td>\n",
              "      <td>9</td>\n",
              "    </tr>\n",
              "    <tr>\n",
              "      <th>33597</th>\n",
              "      <td>903</td>\n",
              "      <td>2</td>\n",
              "    </tr>\n",
              "    <tr>\n",
              "      <th>33598</th>\n",
              "      <td>47</td>\n",
              "      <td>6</td>\n",
              "    </tr>\n",
              "    <tr>\n",
              "      <th>33599</th>\n",
              "      <td>564</td>\n",
              "      <td>0</td>\n",
              "    </tr>\n",
              "  </tbody>\n",
              "</table>\n",
              "<p>33600 rows × 2 columns</p>\n",
              "</div>"
            ],
            "text/plain": [
              "       Cluster  Label\n",
              "0         1154      6\n",
              "1         1649      5\n",
              "2          130      3\n",
              "3          658      4\n",
              "4          167      7\n",
              "...        ...    ...\n",
              "33595      479      9\n",
              "33596     1427      9\n",
              "33597      903      2\n",
              "33598       47      6\n",
              "33599      564      0\n",
              "\n",
              "[33600 rows x 2 columns]"
            ]
          },
          "execution_count": 92,
          "metadata": {},
          "output_type": "execute_result"
        }
      ],
      "source": [
        "y_test_pred_fix = pd.DataFrame(kmeans_fix.labels_, columns=[\"Cluster\"])\n",
        "y_test_pred_fix['Label'] = y_train.tolist()\n",
        "y_test_pred_fix"
      ]
    },
    {
      "cell_type": "code",
      "execution_count": null,
      "id": "b60c2ec4",
      "metadata": {
        "id": "b60c2ec4",
        "outputId": "aa4738cc-a723-42d3-b493-b4f599425a97"
      },
      "outputs": [
        {
          "data": {
            "text/html": [
              "<div>\n",
              "<style scoped>\n",
              "    .dataframe tbody tr th:only-of-type {\n",
              "        vertical-align: middle;\n",
              "    }\n",
              "\n",
              "    .dataframe tbody tr th {\n",
              "        vertical-align: top;\n",
              "    }\n",
              "\n",
              "    .dataframe thead th {\n",
              "        text-align: right;\n",
              "    }\n",
              "</style>\n",
              "<table border=\"1\" class=\"dataframe\">\n",
              "  <thead>\n",
              "    <tr style=\"text-align: right;\">\n",
              "      <th></th>\n",
              "      <th>Label</th>\n",
              "    </tr>\n",
              "    <tr>\n",
              "      <th>Cluster</th>\n",
              "      <th></th>\n",
              "    </tr>\n",
              "  </thead>\n",
              "  <tbody>\n",
              "    <tr>\n",
              "      <th>0</th>\n",
              "      <td>8</td>\n",
              "    </tr>\n",
              "    <tr>\n",
              "      <th>1</th>\n",
              "      <td>2</td>\n",
              "    </tr>\n",
              "    <tr>\n",
              "      <th>2</th>\n",
              "      <td>0</td>\n",
              "    </tr>\n",
              "    <tr>\n",
              "      <th>3</th>\n",
              "      <td>7</td>\n",
              "    </tr>\n",
              "    <tr>\n",
              "      <th>4</th>\n",
              "      <td>6</td>\n",
              "    </tr>\n",
              "    <tr>\n",
              "      <th>5</th>\n",
              "      <td>7</td>\n",
              "    </tr>\n",
              "    <tr>\n",
              "      <th>6</th>\n",
              "      <td>4</td>\n",
              "    </tr>\n",
              "    <tr>\n",
              "      <th>7</th>\n",
              "      <td>1</td>\n",
              "    </tr>\n",
              "    <tr>\n",
              "      <th>8</th>\n",
              "      <td>0</td>\n",
              "    </tr>\n",
              "    <tr>\n",
              "      <th>9</th>\n",
              "      <td>3</td>\n",
              "    </tr>\n",
              "  </tbody>\n",
              "</table>\n",
              "</div>"
            ],
            "text/plain": [
              "         Label\n",
              "Cluster       \n",
              "0            8\n",
              "1            2\n",
              "2            0\n",
              "3            7\n",
              "4            6\n",
              "5            7\n",
              "6            4\n",
              "7            1\n",
              "8            0\n",
              "9            3"
            ]
          },
          "execution_count": 93,
          "metadata": {},
          "output_type": "execute_result"
        }
      ],
      "source": [
        "key_fix = y_train_clusters.groupby('Cluster').agg(lambda x:x.value_counts().index[0])\n",
        "key_fix "
      ]
    },
    {
      "cell_type": "code",
      "execution_count": null,
      "id": "34c349fc",
      "metadata": {
        "id": "34c349fc"
      },
      "outputs": [],
      "source": [
        "y_test_labels_fix = []\n",
        "for i in range(0,len(y_test_pred_fix)):\n",
        "    x = y_test_pred_fix[i]\n",
        "    y_test_labels_fix += [key_fix['Label'].loc[x]]"
      ]
    },
    {
      "cell_type": "markdown",
      "id": "52a36b64",
      "metadata": {
        "id": "52a36b64"
      },
      "source": [
        "## Conclusion"
      ]
    },
    {
      "cell_type": "markdown",
      "id": "77daf34e",
      "metadata": {
        "id": "77daf34e"
      },
      "source": [
        "It makes sense that my best model was the regular Random Forests classifier. The updated RF classifier that only uses the Principle Components doesn't have as many features / dimensions, making it slightly less accurate than the original RF classifier. Meanwhile, as you can see in the above confusion matrix of my K-means clustering model, that was the least accurate model."
      ]
    }
  ],
  "metadata": {
    "kernelspec": {
      "display_name": "Python 3",
      "language": "python",
      "name": "python3"
    },
    "language_info": {
      "codemirror_mode": {
        "name": "ipython",
        "version": 3
      },
      "file_extension": ".py",
      "mimetype": "text/x-python",
      "name": "python",
      "nbconvert_exporter": "python",
      "pygments_lexer": "ipython3",
      "version": "3.8.8"
    },
    "colab": {
      "name": "Sax Module 6 Assignment 1 Digit Recognizer.ipynb",
      "provenance": [],
      "include_colab_link": true
    }
  },
  "nbformat": 4,
  "nbformat_minor": 5
}